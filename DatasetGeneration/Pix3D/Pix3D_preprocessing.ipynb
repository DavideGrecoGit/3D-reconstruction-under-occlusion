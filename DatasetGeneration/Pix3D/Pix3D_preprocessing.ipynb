{
 "cells": [
  {
   "cell_type": "markdown",
   "metadata": {},
   "source": [
    "## 2D images\n",
    "### Apply provided masks to Pix3D images"
   ]
  },
  {
   "cell_type": "code",
   "execution_count": 1,
   "metadata": {},
   "outputs": [],
   "source": [
    "import cv2\n",
    "import numpy as np\n",
    "import os\n",
    "from pathlib import Path\n",
    "\n",
    "pix3d_path = \"/home/davide/Desktop/Dissertation/Data/Pix3D/%s/chair/\"\n",
    "imgs_path = pix3d_path % \"img\"\n",
    "masks_path = pix3d_path % \"mask\"\n",
    "\n",
    "files_pix3d = os.listdir(imgs_path)\n",
    "files_pix3d = [file.split(\".\")[0] for file in files_pix3d]\n",
    "\n",
    "for i in range(len(files_pix3d)):\n",
    "\n",
    "    img_file = os.path.join(imgs_path, files_pix3d[i]+\".jpg\")\n",
    "    mask_file = os.path.join(masks_path, files_pix3d[i]+\".png\")\n",
    "    out_file = os.path.join(imgs_path, files_pix3d[i]+\".png\")\n",
    "    \n",
    "    if Path(img_file).is_file() and Path(mask_file).is_file():\n",
    "        \n",
    "        img = cv2.imread(img_file)\n",
    "        mask = cv2.imread(mask_file,0)\n",
    "        # res = cv2.bitwise_and(img,img,mask = mask)\n",
    "\n",
    "        transparent = np.zeros((img.shape[0], img.shape[1], 4), dtype=np.uint8)\n",
    "        transparent[:,:,0:3] = img\n",
    "        transparent[:, :, 3] = mask\n",
    "\n",
    "        cv2.imwrite(out_file,transparent)\n",
    "\n",
    "    print(f\"{i+1}/{len(files_pix3d)}\")"
   ]
  },
  {
   "cell_type": "markdown",
   "metadata": {},
   "source": [
    "## Voxels\n",
    "### Convert OBJ to Binvox"
   ]
  },
  {
   "cell_type": "code",
   "execution_count": null,
   "metadata": {},
   "outputs": [],
   "source": [
    "from pathlib import Path\n",
    "import numpy as np\n",
    "import binvox_rw\n",
    "import os\n",
    "\n",
    "N_VOX = 32\n",
    "\n",
    "chair_dir = \"/home/davide/Desktop/Dissertation/Data/Pix3D/model/chair\"\n",
    "model_dir = os.path.join(chair_dir, \"%s/model.obj\")\n",
    "binvox_dir = os.path.join(chair_dir, \"%s\")\n",
    "\n",
    "models_Pix3D = os.listdir(chair_dir)\n",
    "\n",
    "for i in range(len(models_Pix3D)):\n",
    "    model_path = model_dir % models_Pix3D[i]\n",
    "    \n",
    "    binvox_path = binvox_dir % models_Pix3D[i]\n",
    "    binvox_path = os.path.join(binvox_path, \"model.binvox\")\n",
    "\n",
    "    if not Path(binvox_path).is_file() and Path(model_path).is_file():\n",
    "\n",
    "        print(f\"====== {i+1:4}/{len(models_Pix3D)} {binvox_path} ======\")\n",
    "        # run = f\"./binvox {model_path} -d {str(N_VOX)} -e -cb -rotx -rotx -rotx -rotz\"\n",
    "\n",
    "        # Combination for Pix3D\n",
    "        run = f\"./binvox {model_path} -d {str(N_VOX)} -e -cb -rotz -rotx -rotx -rotz -rotz\"\n",
    "        !{run}        \n",
    "\n",
    "        if Path(binvox_path).is_file():\n",
    "            with open(binvox_path, 'rb') as file:\n",
    "                v = binvox_rw.read_as_3d_array(file)\n",
    "\n",
    "            v.data = np.transpose(v.data, (2, 0, 1))\n",
    "            with open(binvox_path, 'wb') as file:\n",
    "                binvox_rw.write(v, file)"
   ]
  },
  {
   "cell_type": "markdown",
   "metadata": {},
   "source": [
    "### Number models in dataset"
   ]
  },
  {
   "cell_type": "code",
   "execution_count": 1,
   "metadata": {},
   "outputs": [
    {
     "name": "stdout",
     "output_type": "stream",
     "text": [
      "Total unique model names in JSON file 374\n",
      "Number JSON names available in Pix3D dataset: 221\n",
      "Of which Binvox: 216\n"
     ]
    }
   ],
   "source": [
    "import json\n",
    "import os\n",
    "from pathlib import Path\n",
    "\n",
    "\n",
    "json_path = \"/home/davide/Desktop/Dissertation/Data/Pix3D/Pix3D.json\"\n",
    "\n",
    "annotations = None\n",
    "with open(json_path, encoding='utf-8') as file:\n",
    "    annotations = json.loads(file.read())\n",
    "\n",
    "json_models = []\n",
    "\n",
    "for i in range(len(annotations)):\n",
    "    model_name_parts = annotations[i]['voxel'].split('/')\n",
    "    model_name = model_name_parts[2]\n",
    "    \n",
    "    if model_name not in json_models:\n",
    "        json_models.append(model_name)\n",
    "        # print(model_name)\n",
    "\n",
    "print(f\"Total unique model names in JSON file {len(json_models)}\")\n",
    "\n",
    "chair_path = \"/home/davide/Desktop/Dissertation/Data/Pix3D/model/chair\"\n",
    "file_binvox_path = os.path.join(chair_path, \"%s/model.binvox\")\n",
    "\n",
    "models_Pix3D = os.listdir(chair_path)\n",
    "\n",
    "models_test = []\n",
    "binvox_counter = 0\n",
    "\n",
    "for model in models_Pix3D:\n",
    "    if model in json_models:\n",
    "        models_test.append(model)\n",
    "        # print(model)\n",
    "        \n",
    "        binvox_path = file_binvox_path % model\n",
    "        if Path(binvox_path).is_file():\n",
    "            binvox_counter = binvox_counter + 1\n",
    "\n",
    "\n",
    "print(f\"Number JSON names available in Pix3D dataset: {len(models_test)}\")\n",
    "print(f\"Of which Binvox: {binvox_counter}\")"
   ]
  }
 ],
 "metadata": {
  "kernelspec": {
   "display_name": "Python 3",
   "language": "python",
   "name": "python3"
  },
  "language_info": {
   "codemirror_mode": {
    "name": "ipython",
    "version": 3
   },
   "file_extension": ".py",
   "mimetype": "text/x-python",
   "name": "python",
   "nbconvert_exporter": "python",
   "pygments_lexer": "ipython3",
   "version": "3.10.12"
  },
  "orig_nbformat": 4,
  "vscode": {
   "interpreter": {
    "hash": "e7370f93d1d0cde622a1f8e1c04877d8463912d04d973331ad4851f04de6915a"
   }
  }
 },
 "nbformat": 4,
 "nbformat_minor": 2
}
