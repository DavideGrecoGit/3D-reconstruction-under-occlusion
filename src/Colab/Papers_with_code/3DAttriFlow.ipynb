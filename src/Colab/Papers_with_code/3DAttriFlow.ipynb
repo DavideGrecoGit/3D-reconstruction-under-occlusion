{
  "cells": [
    {
      "cell_type": "code",
      "execution_count": null,
      "metadata": {
        "colab": {
          "base_uri": "https://localhost:8080/"
        },
        "id": "ZuN3E1sgkP6f",
        "outputId": "2e5e7f01-b5a1-4bb7-b6e1-e936d6704126"
      },
      "outputs": [
        {
          "name": "stdout",
          "output_type": "stream",
          "text": [
            "Drive already mounted at /content/drive; to attempt to forcibly remount, call drive.mount(\"/content/drive\", force_remount=True).\n"
          ]
        }
      ],
      "source": [
        "from google.colab import drive\n",
        "drive.mount('/content/drive')"
      ]
    },
    {
      "cell_type": "code",
      "execution_count": null,
      "metadata": {
        "colab": {
          "base_uri": "https://localhost:8080/"
        },
        "id": "Kep9ic12M4Kc",
        "outputId": "3ac989e8-a4ab-4839-9818-e939aa58d9cd"
      },
      "outputs": [
        {
          "name": "stdout",
          "output_type": "stream",
          "text": [
            "Cloning into '/content/drive/MyDrive/Colab_Notebooks/L4_Project/3DAttriFlow'...\n",
            "remote: Enumerating objects: 240, done.\u001b[K\n",
            "remote: Counting objects: 100% (51/51), done.\u001b[K\n",
            "remote: Compressing objects: 100% (39/39), done.\u001b[K\n",
            "remote: Total 240 (delta 18), reused 28 (delta 6), pack-reused 189\u001b[K\n",
            "Receiving objects: 100% (240/240), 17.91 MiB | 15.29 MiB/s, done.\n",
            "Resolving deltas: 100% (81/81), done.\n",
            "Checking out files: 100% (117/117), done.\n"
          ]
        }
      ],
      "source": [
        "!git clone https://github.com/junshengzhou/3DAttriFlow.git /content/drive/MyDrive/Colab_Notebooks/L4_Project/Models/3DAttriFlow"
      ]
    },
    {
      "cell_type": "code",
      "execution_count": null,
      "metadata": {
        "colab": {
          "base_uri": "https://localhost:8080/"
        },
        "id": "WFBOgh4uM9Bx",
        "outputId": "13387c8d-f173-4fa0-e2ec-191d6fa7f538"
      },
      "outputs": [
        {
          "name": "stdout",
          "output_type": "stream",
          "text": [
            "Looking in indexes: https://pypi.org/simple, https://us-python.pkg.dev/colab-wheels/public/simple/\n",
            "Requirement already satisfied: h5py==2.10.0 in /usr/local/lib/python3.7/dist-packages (from -r /content/drive/MyDrive/Colab_Notebooks/L4_Project/Models/3DAttriFlow/requirements.txt (line 1)) (2.10.0)\n",
            "Requirement already satisfied: matplotlib==3.0.3 in /usr/local/lib/python3.7/dist-packages (from -r /content/drive/MyDrive/Colab_Notebooks/L4_Project/Models/3DAttriFlow/requirements.txt (line 2)) (3.0.3)\n",
            "Requirement already satisfied: munch==2.5.0 in /usr/local/lib/python3.7/dist-packages (from -r /content/drive/MyDrive/Colab_Notebooks/L4_Project/Models/3DAttriFlow/requirements.txt (line 3)) (2.5.0)\n",
            "Requirement already satisfied: torch==1.2.0 in /usr/local/lib/python3.7/dist-packages (from -r /content/drive/MyDrive/Colab_Notebooks/L4_Project/Models/3DAttriFlow/requirements.txt (line 4)) (1.2.0)\n",
            "Requirement already satisfied: pyyaml==5.3.1 in /usr/local/lib/python3.7/dist-packages (from -r /content/drive/MyDrive/Colab_Notebooks/L4_Project/Models/3DAttriFlow/requirements.txt (line 5)) (5.3.1)\n",
            "Requirement already satisfied: torchvision==0.4.0 in /usr/local/lib/python3.7/dist-packages (from -r /content/drive/MyDrive/Colab_Notebooks/L4_Project/Models/3DAttriFlow/requirements.txt (line 6)) (0.4.0)\n",
            "Requirement already satisfied: pymesh==1.0.2 in /usr/local/lib/python3.7/dist-packages (from -r /content/drive/MyDrive/Colab_Notebooks/L4_Project/Models/3DAttriFlow/requirements.txt (line 7)) (1.0.2)\n",
            "Requirement already satisfied: termcolor==1.1.0 in /usr/local/lib/python3.7/dist-packages (from -r /content/drive/MyDrive/Colab_Notebooks/L4_Project/Models/3DAttriFlow/requirements.txt (line 8)) (1.1.0)\n",
            "Requirement already satisfied: tqdm==4.62.2 in /usr/local/lib/python3.7/dist-packages (from -r /content/drive/MyDrive/Colab_Notebooks/L4_Project/Models/3DAttriFlow/requirements.txt (line 9)) (4.62.2)\n",
            "Requirement already satisfied: einops==0.3.2 in /usr/local/lib/python3.7/dist-packages (from -r /content/drive/MyDrive/Colab_Notebooks/L4_Project/Models/3DAttriFlow/requirements.txt (line 10)) (0.3.2)\n",
            "Requirement already satisfied: numpy>=1.7 in /usr/local/lib/python3.7/dist-packages (from h5py==2.10.0->-r /content/drive/MyDrive/Colab_Notebooks/L4_Project/Models/3DAttriFlow/requirements.txt (line 1)) (1.21.6)\n",
            "Requirement already satisfied: six in /usr/local/lib/python3.7/dist-packages (from h5py==2.10.0->-r /content/drive/MyDrive/Colab_Notebooks/L4_Project/Models/3DAttriFlow/requirements.txt (line 1)) (1.15.0)\n",
            "Requirement already satisfied: kiwisolver>=1.0.1 in /usr/local/lib/python3.7/dist-packages (from matplotlib==3.0.3->-r /content/drive/MyDrive/Colab_Notebooks/L4_Project/Models/3DAttriFlow/requirements.txt (line 2)) (1.4.4)\n",
            "Requirement already satisfied: pyparsing!=2.0.4,!=2.1.2,!=2.1.6,>=2.0.1 in /usr/local/lib/python3.7/dist-packages (from matplotlib==3.0.3->-r /content/drive/MyDrive/Colab_Notebooks/L4_Project/Models/3DAttriFlow/requirements.txt (line 2)) (3.0.9)\n",
            "Requirement already satisfied: python-dateutil>=2.1 in /usr/local/lib/python3.7/dist-packages (from matplotlib==3.0.3->-r /content/drive/MyDrive/Colab_Notebooks/L4_Project/Models/3DAttriFlow/requirements.txt (line 2)) (2.8.2)\n",
            "Requirement already satisfied: cycler>=0.10 in /usr/local/lib/python3.7/dist-packages (from matplotlib==3.0.3->-r /content/drive/MyDrive/Colab_Notebooks/L4_Project/Models/3DAttriFlow/requirements.txt (line 2)) (0.11.0)\n",
            "Requirement already satisfied: pillow>=4.1.1 in /usr/local/lib/python3.7/dist-packages (from torchvision==0.4.0->-r /content/drive/MyDrive/Colab_Notebooks/L4_Project/Models/3DAttriFlow/requirements.txt (line 6)) (7.1.2)\n",
            "Requirement already satisfied: typing-extensions in /usr/local/lib/python3.7/dist-packages (from kiwisolver>=1.0.1->matplotlib==3.0.3->-r /content/drive/MyDrive/Colab_Notebooks/L4_Project/Models/3DAttriFlow/requirements.txt (line 2)) (4.1.1)\n"
          ]
        }
      ],
      "source": [
        "!pip install -r /content/drive/MyDrive/Colab_Notebooks/L4_Project/Models/3DAttriFlow/requirements.txt"
      ]
    },
    {
      "cell_type": "code",
      "execution_count": null,
      "metadata": {
        "colab": {
          "base_uri": "https://localhost:8080/"
        },
        "id": "PSo1Z3jT9oxO",
        "outputId": "7d9fbebd-66b5-437c-a936-8ef48123e5c4"
      },
      "outputs": [
        {
          "name": "stdout",
          "output_type": "stream",
          "text": [
            "running install\n",
            "running bdist_egg\n",
            "running egg_info\n",
            "writing chamfer_3D.egg-info/PKG-INFO\n",
            "writing dependency_links to chamfer_3D.egg-info/dependency_links.txt\n",
            "writing top-level names to chamfer_3D.egg-info/top_level.txt\n",
            "reading manifest file 'chamfer_3D.egg-info/SOURCES.txt'\n",
            "writing manifest file 'chamfer_3D.egg-info/SOURCES.txt'\n",
            "installing library code to build/bdist.linux-x86_64/egg\n",
            "running install_lib\n",
            "running build_ext\n",
            "creating build/bdist.linux-x86_64/egg\n",
            "copying build/lib.linux-x86_64-3.7/pointnet2_cuda.cpython-37m-x86_64-linux-gnu.so -> build/bdist.linux-x86_64/egg\n",
            "copying build/lib.linux-x86_64-3.7/chamfer_3D.cpython-37m-x86_64-linux-gnu.so -> build/bdist.linux-x86_64/egg\n",
            "creating stub loader for chamfer_3D.cpython-37m-x86_64-linux-gnu.so\n",
            "byte-compiling build/bdist.linux-x86_64/egg/chamfer_3D.py to chamfer_3D.cpython-37.pyc\n",
            "creating build/bdist.linux-x86_64/egg/EGG-INFO\n",
            "copying chamfer_3D.egg-info/PKG-INFO -> build/bdist.linux-x86_64/egg/EGG-INFO\n",
            "copying chamfer_3D.egg-info/SOURCES.txt -> build/bdist.linux-x86_64/egg/EGG-INFO\n",
            "copying chamfer_3D.egg-info/dependency_links.txt -> build/bdist.linux-x86_64/egg/EGG-INFO\n",
            "copying chamfer_3D.egg-info/top_level.txt -> build/bdist.linux-x86_64/egg/EGG-INFO\n",
            "writing build/bdist.linux-x86_64/egg/EGG-INFO/native_libs.txt\n",
            "zip_safe flag not set; analyzing archive contents...\n",
            "__pycache__.chamfer_3D.cpython-37: module references __file__\n",
            "creating 'dist/chamfer_3D-0.0.0-py3.7-linux-x86_64.egg' and adding 'build/bdist.linux-x86_64/egg' to it\n",
            "removing 'build/bdist.linux-x86_64/egg' (and everything under it)\n",
            "Processing chamfer_3D-0.0.0-py3.7-linux-x86_64.egg\n",
            "removing '/usr/local/lib/python3.7/dist-packages/chamfer_3D-0.0.0-py3.7-linux-x86_64.egg' (and everything under it)\n",
            "creating /usr/local/lib/python3.7/dist-packages/chamfer_3D-0.0.0-py3.7-linux-x86_64.egg\n",
            "Extracting chamfer_3D-0.0.0-py3.7-linux-x86_64.egg to /usr/local/lib/python3.7/dist-packages\n",
            "chamfer-3D 0.0.0 is already the active version in easy-install.pth\n",
            "\n",
            "Installed /usr/local/lib/python3.7/dist-packages/chamfer_3D-0.0.0-py3.7-linux-x86_64.egg\n",
            "Processing dependencies for chamfer-3D==0.0.0\n",
            "Finished processing dependencies for chamfer-3D==0.0.0\n"
          ]
        }
      ],
      "source": [
        "!python /content/drive/MyDrive/Colab_Notebooks/L4_Project/Models/3DAttriFlow/utils/ChamferDistancePytorch/chamfer3D/setup.py install"
      ]
    },
    {
      "cell_type": "code",
      "execution_count": null,
      "metadata": {
        "colab": {
          "base_uri": "https://localhost:8080/"
        },
        "id": "M-EkmSkf91qx",
        "outputId": "dddc990f-34dd-41bd-f998-7aed8408b428"
      },
      "outputs": [
        {
          "name": "stdout",
          "output_type": "stream",
          "text": [
            "running install\n",
            "running bdist_egg\n",
            "running egg_info\n",
            "writing pointnet2.egg-info/PKG-INFO\n",
            "writing dependency_links to pointnet2.egg-info/dependency_links.txt\n",
            "writing top-level names to pointnet2.egg-info/top_level.txt\n",
            "reading manifest file 'pointnet2.egg-info/SOURCES.txt'\n",
            "writing manifest file 'pointnet2.egg-info/SOURCES.txt'\n",
            "installing library code to build/bdist.linux-x86_64/egg\n",
            "running install_lib\n",
            "running build_ext\n",
            "creating build/bdist.linux-x86_64/egg\n",
            "copying build/lib.linux-x86_64-3.7/pointnet2_cuda.cpython-37m-x86_64-linux-gnu.so -> build/bdist.linux-x86_64/egg\n",
            "copying build/lib.linux-x86_64-3.7/chamfer_3D.cpython-37m-x86_64-linux-gnu.so -> build/bdist.linux-x86_64/egg\n",
            "creating stub loader for pointnet2_cuda.cpython-37m-x86_64-linux-gnu.so\n",
            "byte-compiling build/bdist.linux-x86_64/egg/pointnet2_cuda.py to pointnet2_cuda.cpython-37.pyc\n",
            "creating build/bdist.linux-x86_64/egg/EGG-INFO\n",
            "copying pointnet2.egg-info/PKG-INFO -> build/bdist.linux-x86_64/egg/EGG-INFO\n",
            "copying pointnet2.egg-info/SOURCES.txt -> build/bdist.linux-x86_64/egg/EGG-INFO\n",
            "copying pointnet2.egg-info/dependency_links.txt -> build/bdist.linux-x86_64/egg/EGG-INFO\n",
            "copying pointnet2.egg-info/top_level.txt -> build/bdist.linux-x86_64/egg/EGG-INFO\n",
            "writing build/bdist.linux-x86_64/egg/EGG-INFO/native_libs.txt\n",
            "zip_safe flag not set; analyzing archive contents...\n",
            "__pycache__.pointnet2_cuda.cpython-37: module references __file__\n",
            "creating 'dist/pointnet2-0.0.0-py3.7-linux-x86_64.egg' and adding 'build/bdist.linux-x86_64/egg' to it\n",
            "removing 'build/bdist.linux-x86_64/egg' (and everything under it)\n",
            "Processing pointnet2-0.0.0-py3.7-linux-x86_64.egg\n",
            "removing '/usr/local/lib/python3.7/dist-packages/pointnet2-0.0.0-py3.7-linux-x86_64.egg' (and everything under it)\n",
            "creating /usr/local/lib/python3.7/dist-packages/pointnet2-0.0.0-py3.7-linux-x86_64.egg\n",
            "Extracting pointnet2-0.0.0-py3.7-linux-x86_64.egg to /usr/local/lib/python3.7/dist-packages\n",
            "pointnet2 0.0.0 is already the active version in easy-install.pth\n",
            "\n",
            "Installed /usr/local/lib/python3.7/dist-packages/pointnet2-0.0.0-py3.7-linux-x86_64.egg\n",
            "Processing dependencies for pointnet2==0.0.0\n",
            "Finished processing dependencies for pointnet2==0.0.0\n"
          ]
        }
      ],
      "source": [
        "!python /content/drive/MyDrive/Colab_Notebooks/L4_Project/Models/3DAttriFlow/utils/Pointnet2.PyTorch/pointnet2/setup.py install"
      ]
    },
    {
      "cell_type": "code",
      "execution_count": null,
      "metadata": {
        "colab": {
          "base_uri": "https://localhost:8080/"
        },
        "id": "2ayQuNpA97BD",
        "outputId": "a15861d9-cc1b-4c9e-d8ac-bf66402b7407"
      },
      "outputs": [
        {
          "name": "stdout",
          "output_type": "stream",
          "text": [
            "running install\n",
            "running bdist_egg\n",
            "running egg_info\n",
            "creating emd.egg-info\n",
            "writing emd.egg-info/PKG-INFO\n",
            "writing dependency_links to emd.egg-info/dependency_links.txt\n",
            "writing top-level names to emd.egg-info/top_level.txt\n",
            "writing manifest file 'emd.egg-info/SOURCES.txt'\n",
            "reading manifest file 'emd.egg-info/SOURCES.txt'\n",
            "writing manifest file 'emd.egg-info/SOURCES.txt'\n",
            "installing library code to build/bdist.linux-x86_64/egg\n",
            "running install_lib\n",
            "running build_ext\n",
            "building 'emd' extension\n",
            "creating build/temp.linux-x86_64-3.7/content/drive/MyDrive/Colab_Notebooks/L4_Project/Models/3DAttriFlow/utils/emd\n",
            "x86_64-linux-gnu-gcc -pthread -Wno-unused-result -Wsign-compare -DNDEBUG -g -fwrapv -O2 -Wall -g -fstack-protector-strong -Wformat -Werror=format-security -g -fwrapv -O2 -g -fstack-protector-strong -Wformat -Werror=format-security -Wdate-time -D_FORTIFY_SOURCE=2 -fPIC -I/usr/local/lib/python3.7/dist-packages/torch/include -I/usr/local/lib/python3.7/dist-packages/torch/include/torch/csrc/api/include -I/usr/local/lib/python3.7/dist-packages/torch/include/TH -I/usr/local/lib/python3.7/dist-packages/torch/include/THC -I/usr/local/cuda/include -I/usr/include/python3.7m -c /content/drive/MyDrive/Colab_Notebooks/L4_Project/Models/3DAttriFlow/utils/emd/emd.cpp -o build/temp.linux-x86_64-3.7/content/drive/MyDrive/Colab_Notebooks/L4_Project/Models/3DAttriFlow/utils/emd/emd.o -DTORCH_API_INCLUDE_EXTENSION_H -DTORCH_EXTENSION_NAME=emd -D_GLIBCXX_USE_CXX11_ABI=0 -std=c++11\n",
            "/usr/local/cuda/bin/nvcc -I/usr/local/lib/python3.7/dist-packages/torch/include -I/usr/local/lib/python3.7/dist-packages/torch/include/torch/csrc/api/include -I/usr/local/lib/python3.7/dist-packages/torch/include/TH -I/usr/local/lib/python3.7/dist-packages/torch/include/THC -I/usr/local/cuda/include -I/usr/include/python3.7m -c /content/drive/MyDrive/Colab_Notebooks/L4_Project/Models/3DAttriFlow/utils/emd/emd_cuda.cu -o build/temp.linux-x86_64-3.7/content/drive/MyDrive/Colab_Notebooks/L4_Project/Models/3DAttriFlow/utils/emd/emd_cuda.o -D__CUDA_NO_HALF_OPERATORS__ -D__CUDA_NO_HALF_CONVERSIONS__ -D__CUDA_NO_HALF2_OPERATORS__ --expt-relaxed-constexpr --compiler-options '-fPIC' -DTORCH_API_INCLUDE_EXTENSION_H -DTORCH_EXTENSION_NAME=emd -D_GLIBCXX_USE_CXX11_ABI=0 -std=c++11\n",
            "x86_64-linux-gnu-g++ -pthread -shared -Wl,-O1 -Wl,-Bsymbolic-functions -Wl,-Bsymbolic-functions -g -fwrapv -O2 -Wl,-Bsymbolic-functions -g -fwrapv -O2 -g -fstack-protector-strong -Wformat -Werror=format-security -Wdate-time -D_FORTIFY_SOURCE=2 build/temp.linux-x86_64-3.7/content/drive/MyDrive/Colab_Notebooks/L4_Project/Models/3DAttriFlow/utils/emd/emd.o build/temp.linux-x86_64-3.7/content/drive/MyDrive/Colab_Notebooks/L4_Project/Models/3DAttriFlow/utils/emd/emd_cuda.o -L/usr/local/cuda/lib64 -lcudart -o build/lib.linux-x86_64-3.7/emd.cpython-37m-x86_64-linux-gnu.so\n",
            "creating build/bdist.linux-x86_64/egg\n",
            "copying build/lib.linux-x86_64-3.7/pointnet2_cuda.cpython-37m-x86_64-linux-gnu.so -> build/bdist.linux-x86_64/egg\n",
            "copying build/lib.linux-x86_64-3.7/chamfer_3D.cpython-37m-x86_64-linux-gnu.so -> build/bdist.linux-x86_64/egg\n",
            "copying build/lib.linux-x86_64-3.7/emd.cpython-37m-x86_64-linux-gnu.so -> build/bdist.linux-x86_64/egg\n",
            "creating stub loader for emd.cpython-37m-x86_64-linux-gnu.so\n",
            "byte-compiling build/bdist.linux-x86_64/egg/emd.py to emd.cpython-37.pyc\n",
            "creating build/bdist.linux-x86_64/egg/EGG-INFO\n",
            "copying emd.egg-info/PKG-INFO -> build/bdist.linux-x86_64/egg/EGG-INFO\n",
            "copying emd.egg-info/SOURCES.txt -> build/bdist.linux-x86_64/egg/EGG-INFO\n",
            "copying emd.egg-info/dependency_links.txt -> build/bdist.linux-x86_64/egg/EGG-INFO\n",
            "copying emd.egg-info/top_level.txt -> build/bdist.linux-x86_64/egg/EGG-INFO\n",
            "writing build/bdist.linux-x86_64/egg/EGG-INFO/native_libs.txt\n",
            "zip_safe flag not set; analyzing archive contents...\n",
            "__pycache__.emd.cpython-37: module references __file__\n",
            "creating 'dist/emd-0.0.0-py3.7-linux-x86_64.egg' and adding 'build/bdist.linux-x86_64/egg' to it\n",
            "removing 'build/bdist.linux-x86_64/egg' (and everything under it)\n",
            "Processing emd-0.0.0-py3.7-linux-x86_64.egg\n",
            "creating /usr/local/lib/python3.7/dist-packages/emd-0.0.0-py3.7-linux-x86_64.egg\n",
            "Extracting emd-0.0.0-py3.7-linux-x86_64.egg to /usr/local/lib/python3.7/dist-packages\n",
            "Adding emd 0.0.0 to easy-install.pth file\n",
            "\n",
            "Installed /usr/local/lib/python3.7/dist-packages/emd-0.0.0-py3.7-linux-x86_64.egg\n",
            "Processing dependencies for emd==0.0.0\n",
            "Finished processing dependencies for emd==0.0.0\n"
          ]
        }
      ],
      "source": [
        "!python /content/drive/MyDrive/Colab_Notebooks/L4_Project/Models/3DAttriFlow/utils/emd/setup.py install"
      ]
    },
    {
      "cell_type": "markdown",
      "metadata": {
        "id": "FOkGdcZH_jCm"
      },
      "source": []
    },
    {
      "cell_type": "code",
      "execution_count": null,
      "metadata": {
        "colab": {
          "base_uri": "https://localhost:8080/"
        },
        "id": "OHsrr7IttGy0",
        "outputId": "09b85952-6229-4d35-ea75-38b619fd88b2"
      },
      "outputs": [
        {
          "name": "stdout",
          "output_type": "stream",
          "text": [
            "/content/drive/MyDrive/Colab_Notebooks/L4_Project/Models/3DAttriFlow\n",
            "Using gpu:0\n",
            "cp: cannot stat 'train.py': No such file or directory\n",
            "INFO:root:Munch({'batch_size': 12, 'workers': 4, 'nepoch': 1, 'model_name': 'PC_3DAttriFlow', 'load_model': './checkpoints/pc_ckpt.pth', 'start_epoch': 0, 'num_points': 2048, 'work_dir': 'log/', 'flag': 'debug', 'loss': 'cd', 'manual_seed': None, 'use_mean_feature': False, 'step_interval_to_print': 200, 'epoch_interval_to_save': 5, 'epoch_interval_to_val': 1, 'varying_constant': '0.01, 0.1, 0.5, 1', 'varying_constant_epochs': '5, 15, 30', 'dir_outpath': '/content/drive/MyDrive/Colab_Notebooks/L4_Project/Models/3DAttriFlow_Supplementary/output/S-PMP-output', 'lr': 0.0001, 'lr_decay': True, 'lr_decay_interval': 40, 'lr_decay_rate': 0.7, 'lr_step_decay_epochs': None, 'lr_step_decay_rates': None, 'lr_clip': 1e-06, 'optimizer': 'Adam', 'weight_decay': 0, 'betas': '0.9, 0.999', 'nk': 20, 'nz': 128, 'radius': 0.2, 'layers': '1, 1, 1, 1', 'distribution_loss': 'KLD', 'knn_list': '16', 'pk': 10, 'local_folding': False, 'points_label': True, 'num_coarse_raw': 1024, 'num_fps': 2048, 'num_coarse': 2048, 'save_vis': False, 'eval_emd': False, 'dir_checkpoints': '/content/drive/MyDrive/Colab_Notebooks/L4_Project/Models/3DAttriFlow_Supplementary/output/S-PMP-output/PC_3DAttriFlow-1101_1059/checkpoints'})\n",
            "tcmalloc: large alloc 1533542400 bytes == 0x393a000 @  0x7f456504b1e7 0x7f45627190ce 0x7f456276fcf5 0x7f456271c948 0x590736 0x510d15 0x4bac0a 0x7f450c2f30a4 0x4d32c7 0x590cc9 0x538f9c 0x4e74e9 0x50cd67 0x5b4ee6 0x4bad0a 0x538786 0x5909f6 0x510d15 0x58fd37 0x50c4fc 0x5b4ee6 0x6005a3 0x607796 0x60785c 0x60a436 0x64db82 0x64dd2e 0x7f4564c48c87 0x5b636a\n",
            "tcmalloc: large alloc 1533542400 bytes == 0x5efc4000 @  0x7f456504b1e7 0x7f45627190ce 0x7f4562773726 0x7f4562766475 0x7f45628166ec 0x58f62c 0x5105e2 0x5b4ee6 0x4bad0a 0x538786 0x5909f6 0x510d15 0x58fd37 0x50c4fc 0x5b4ee6 0x6005a3 0x607796 0x60785c 0x60a436 0x64db82 0x64dd2e 0x7f4564c48c87 0x5b636a\n",
            "(62400, 2048, 3)\n",
            "(2400, 2048, 3) (62400, 16)\n",
            "(41600, 2048, 3)\n",
            "(1600, 2048, 3) (41600, 16)\n",
            "INFO:root:Length of train dataset:62400\n",
            "INFO:root:Length of test dataset:41600\n",
            "INFO:root:Random Seed: 3720\n",
            "Loaded compiled 3D CUDA chamfer distance\n",
            "[Epoch 0/1][Batch 5200/5200]: 100% 5200/5200 [1:16:23<00:00,  1.13it/s, loss=['20.1279', '15.3655']]\n",
            "INFO:root: \n",
            "INFO:root:PC_3DAttriFlow-1101_1059[Epoch 0/1] EpochTime = 4583.471 (s) Losses = ['24.6333', '38.1117']\n",
            "INFO:root:Saving net...\n",
            "INFO:root:Testing...\n",
            "Traceback (most recent call last):\n",
            "  File \"train_pc.py\", line 237, in <module>\n",
            "    train()\n",
            "  File \"train_pc.py\", line 178, in train\n",
            "    val(net, epoch, val_loss_meters, dataloader_test, best_epoch_losses, LOG_FOUT, log_dir)\n",
            "  File \"train_pc.py\", line 199, in val\n",
            "    result_dict = net(inputs, gt, label=label, prefix=\"val\")\n",
            "  File \"/usr/local/lib/python3.7/dist-packages/torch/nn/modules/module.py\", line 547, in __call__\n",
            "    result = self.forward(*input, **kwargs)\n",
            "  File \"/usr/local/lib/python3.7/dist-packages/torch/nn/parallel/data_parallel.py\", line 150, in forward\n",
            "    return self.module(*inputs[0], **kwargs[0])\n",
            "  File \"/usr/local/lib/python3.7/dist-packages/torch/nn/modules/module.py\", line 547, in __call__\n",
            "    result = self.forward(*input, **kwargs)\n",
            "  File \"/content/drive/MyDrive/Colab_Notebooks/L4_Project/Models/3DAttriFlow/models/PC_3DAttriFlow.py\", line 57, in forward\n",
            "    x = x.transpose(1, 2).contiguous()\n",
            "IndexError: Dimension out of range (expected to be in range of [-2, 1], but got 2)\n"
          ]
        }
      ],
      "source": [
        "%cd /content/drive/MyDrive/Colab_Notebooks/L4_Project/Models/3DAttriFlow/\n",
        "!python train_pc.py -c cfgs/PC.yaml -gpu 0"
      ]
    },
    {
      "cell_type": "code",
      "execution_count": null,
      "metadata": {
        "colab": {
          "base_uri": "https://localhost:8080/"
        },
        "id": "m2owq7BkOkeQ",
        "outputId": "da8962b9-0227-4578-c0dd-ca8b27cc103c"
      },
      "outputs": [
        {
          "name": "stdout",
          "output_type": "stream",
          "text": [
            "Traceback (most recent call last):\n",
            "  File \"/content/drive/MyDrive/Colab_Notebooks/L4_Project/Models/3DAttriFlow/val_svr.py\", line 5, in <module>\n",
            "    from dataset_svr.trainer_dataset import build_dataset_val\n",
            "  File \"/content/drive/MyDrive/Colab_Notebooks/L4_Project/Models/3DAttriFlow/dataset_svr/trainer_dataset.py\", line 4, in <module>\n",
            "    import dataset_svr.dataset_shapenet as dataset_shapenet\n",
            "  File \"<frozen importlib._bootstrap>\", line 983, in _find_and_load\n",
            "  File \"<frozen importlib._bootstrap>\", line 967, in _find_and_load_unlocked\n",
            "  File \"<frozen importlib._bootstrap>\", line 677, in _load_unlocked\n",
            "  File \"<frozen importlib._bootstrap_external>\", line 724, in exec_module\n",
            "  File \"<frozen importlib._bootstrap_external>\", line 818, in get_code\n",
            "  File \"<frozen importlib._bootstrap_external>\", line 917, in get_data\n",
            "KeyboardInterrupt\n"
          ]
        }
      ],
      "source": [
        "!python /content/drive/MyDrive/Colab_Notebooks/L4_Project/Models/3DAttriFlow/val_svr.py -c /content/drive/MyDrive/Colab_Notebooks/L4_Project/Models/3DAttriFlow/cfgs/SVR.yaml -gpu 0"
      ]
    },
    {
      "cell_type": "code",
      "execution_count": null,
      "metadata": {
        "colab": {
          "base_uri": "https://localhost:8080/"
        },
        "id": "Q-vsrSCx9Xnt",
        "outputId": "48980c02-655c-4f40-d5eb-ce858ecda6ca"
      },
      "outputs": [
        {
          "name": "stdout",
          "output_type": "stream",
          "text": [
            "Loaded compiled 3D CUDA chamfer distance\n",
            "Using gpu:0\n",
            "(41600, 2048, 3)\n",
            "(1600, 2048, 3) (41600, 16)\n",
            "Traceback (most recent call last):\n",
            "  File \"/content/drive/MyDrive/Colab_Notebooks/L4_Project/Models/3DAttriFlow/val_pc.py\", line 104, in <module>\n",
            "    val()\n",
            "  File \"/content/drive/MyDrive/Colab_Notebooks/L4_Project/Models/3DAttriFlow/val_pc.py\", line 56, in val\n",
            "    ckpt = torch.load(args.load_model)\n",
            "  File \"/usr/local/lib/python3.7/dist-packages/torch/serialization.py\", line 381, in load\n",
            "    f = open(f, 'rb')\n",
            "FileNotFoundError: [Errno 2] No such file or directory: './checkpoints/pc_ckpt.pth'\n"
          ]
        }
      ],
      "source": [
        "!python /content/drive/MyDrive/Colab_Notebooks/L4_Project/Models/3DAttriFlow/val_pc.py -c /content/drive/MyDrive/Colab_Notebooks/L4_Project/Models/3DAttriFlow/cfgs/PC.yaml -gpu 0"
      ]
    },
    {
      "cell_type": "code",
      "execution_count": null,
      "metadata": {
        "colab": {
          "base_uri": "https://localhost:8080/"
        },
        "id": "_0QGv8KX0rHO",
        "outputId": "0a6460da-ad6f-4abd-b766-048d5b4d6472"
      },
      "outputs": [
        {
          "name": "stdout",
          "output_type": "stream",
          "text": [
            "<KeysViewHDF5 ['complete_pcds', 'incomplete_pcds', 'labels']>\n"
          ]
        }
      ],
      "source": [
        "path = '/content/drive/MyDrive/Colab_Notebooks/L4_Project/Models/3DAttriFlow_Supplementary/MVP_Test_CP.h5'\n",
        "\n",
        "import h5py\n",
        "f = h5py.File(path, 'r')\n",
        "\n",
        "print(f.keys())"
      ]
    },
    {
      "cell_type": "code",
      "execution_count": null,
      "metadata": {
        "colab": {
          "base_uri": "https://localhost:8080/"
        },
        "id": "67gKNiWZ11qr",
        "outputId": "804afb91-698c-436c-c8f6-fddb749f38ef"
      },
      "outputs": [
        {
          "name": "stdout",
          "output_type": "stream",
          "text": [
            "<HDF5 dataset \"complete_pcds\": shape (1600, 2048, 3), type \"<f4\">\n"
          ]
        }
      ],
      "source": [
        "print(f['complete_pcds'])"
      ]
    },
    {
      "cell_type": "code",
      "execution_count": null,
      "metadata": {
        "colab": {
          "base_uri": "https://localhost:8080/"
        },
        "id": "LR3y_Td313Nm",
        "outputId": "ba3bc801-8d13-4fb4-bc78-3f5fc20e2d4e"
      },
      "outputs": [
        {
          "name": "stdout",
          "output_type": "stream",
          "text": [
            "<HDF5 dataset \"incomplete_pcds\": shape (41600, 2048, 3), type \"<f4\">\n"
          ]
        }
      ],
      "source": [
        "print(f['incomplete_pcds'])"
      ]
    },
    {
      "cell_type": "code",
      "execution_count": null,
      "metadata": {
        "colab": {
          "base_uri": "https://localhost:8080/"
        },
        "id": "h2d8hrHl18ZR",
        "outputId": "b53c40a0-e61c-4f08-d932-8b101168c98b"
      },
      "outputs": [
        {
          "name": "stdout",
          "output_type": "stream",
          "text": [
            "<HDF5 dataset \"labels\": shape (41600,), type \"<i4\">\n"
          ]
        }
      ],
      "source": [
        "print(f['labels'])"
      ]
    },
    {
      "cell_type": "code",
      "execution_count": null,
      "metadata": {
        "id": "OH9S3DtS1-2A"
      },
      "outputs": [],
      "source": []
    }
  ],
  "metadata": {
    "accelerator": "GPU",
    "colab": {
      "collapsed_sections": [],
      "provenance": []
    },
    "gpuClass": "standard",
    "kernelspec": {
      "display_name": "Python 3",
      "name": "python3"
    },
    "language_info": {
      "name": "python"
    }
  },
  "nbformat": 4,
  "nbformat_minor": 0
}
